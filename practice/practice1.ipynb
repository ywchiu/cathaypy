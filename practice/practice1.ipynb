{
  "nbformat": 4,
  "nbformat_minor": 0,
  "metadata": {
    "colab": {
      "name": "practice1.ipynb",
      "provenance": [],
      "collapsed_sections": []
    },
    "kernelspec": {
      "name": "python3",
      "display_name": "Python 3"
    },
    "language_info": {
      "name": "python"
    }
  },
  "cells": [
    {
      "cell_type": "markdown",
      "metadata": {
        "id": "kN6zenG4BQQq"
      },
      "source": [
        "年化報酬率(%) 的定義為：\n",
        "\n",
        "年化報酬率 = (總報酬率 + 1) ^ (1/ 年數) - 1\n",
        "\n",
        "如果有兩個投資案：\n",
        "- 投資案A. 費時10年，總報酬率200%\n",
        "- 投資案B. 費時5年，總報酬率100%\n",
        "\n",
        "請問哪個投資案的年化報酬率比較高?\n",
        "\n",
        "\n",
        "\n"
      ]
    },
    {
      "cell_type": "code",
      "metadata": {
        "id": "CzsGuXwwBKQI"
      },
      "source": [
        "projectA = \n",
        "projectB =\n",
        "projectA > projectB"
      ],
      "execution_count": null,
      "outputs": []
    }
  ]
}