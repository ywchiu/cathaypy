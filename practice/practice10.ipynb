{
  "nbformat": 4,
  "nbformat_minor": 0,
  "metadata": {
    "colab": {
      "name": "practice10.ipynb",
      "provenance": [],
      "collapsed_sections": []
    },
    "kernelspec": {
      "name": "python3",
      "display_name": "Python 3"
    },
    "language_info": {
      "name": "python"
    }
  },
  "cells": [
    {
      "cell_type": "markdown",
      "metadata": {
        "id": "_krC_ehPp35I"
      },
      "source": [
        "## Practice10\n",
        "\n",
        "寫一個機器人物件 robot， 機器人需要包含以下功能：\n",
        "- 使用者在建立物件時，可以給予機器人的年齡(age)與性別(gender)\n",
        "- 為機器人建立函式 getRobotAge: 可以列印出機器人的年齡\n",
        "- 為機器人建立函式 getRobotAge: 可以列印出機器人的性別\n",
        "- 為機器人建立函式 getMessage 可以接收使用者打的訊息, 並根據使用者的輸入檢查是否有包含下列字樣,如果有的話會自動回傳預設好的訊息\n",
        "\n",
        "    \n",
        "    1. 問題:保險 答案: 以下是我們推薦的險總類\n",
        "    2. 問題:貸款 答案: 以下是我們推薦的貸款總類\n",
        "    3. 問題:存款 答案: 以下是您的銀行存款餘額\n",
        "\n",
        "    4. 沒有包含下列字樣的話將回傳”我現在還不聰明，等我變聰明後再告訴你”\n",
        "\n"
      ]
    },
    {
      "cell_type": "code",
      "metadata": {
        "id": "GVpr4FRlp18v"
      },
      "source": [
        ""
      ],
      "execution_count": null,
      "outputs": []
    }
  ]
}