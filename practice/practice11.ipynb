{
  "nbformat": 4,
  "nbformat_minor": 0,
  "metadata": {
    "colab": {
      "name": "practice11.ipynb",
      "provenance": [],
      "collapsed_sections": []
    },
    "kernelspec": {
      "name": "python3",
      "display_name": "Python 3"
    },
    "language_info": {
      "name": "python"
    }
  },
  "cells": [
    {
      "cell_type": "markdown",
      "metadata": {
        "id": "AyqGOZ71EJoa"
      },
      "source": [
        "## Practice 11\n",
        "\n",
        "請使用 pip 將 jieba 安裝在自己的電腦上(Colab 已有安裝)\n",
        "\n",
        "閱讀jieba 相關的文件，了解jieba 的用法\n",
        "https://github.com/fxsjy/jieba\n",
        "\n",
        "請將以下字詞斷詞：\n",
        "\n"
      ]
    },
    {
      "cell_type": "code",
      "metadata": {
        "id": "UWs1gTCBEHm-"
      },
      "source": [
        "news = '''\n",
        "國泰金控 (2882-TW) 自結 8 月稅後純益 108.8 億元，累計稅後純益達 1140.9 億元，較去年同期大幅成長 91%，累計獲利再創新高，每股稅後純益 (EPS) 達 8.35 元；國泰人壽累計獲利再創高，且淨值及 RBC 續居 10 年高位，加上國泰證券及國泰投信單月及累計獲利均續創同期新高，帶動國泰金合計寫下八項紀錄。\n",
        "'''"
      ],
      "execution_count": null,
      "outputs": []
    }
  ]
}