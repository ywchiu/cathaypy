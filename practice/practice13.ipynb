{
  "nbformat": 4,
  "nbformat_minor": 0,
  "metadata": {
    "colab": {
      "name": "practice13.ipynb",
      "provenance": [],
      "collapsed_sections": []
    },
    "kernelspec": {
      "name": "python3",
      "display_name": "Python 3"
    },
    "language_info": {
      "name": "python"
    }
  },
  "cells": [
    {
      "cell_type": "markdown",
      "metadata": {
        "id": "lwRtwOAy-V-E"
      },
      "source": [
        "## Practice 13\n",
        "\n",
        "請使用園餅圖表示客戶來自各國家(德國、西班牙與法國)的佔比?\n",
        "\n",
        "請使用長條圖表示客戶來自各國家 (德國、西班牙與法國) 的數量?\n"
      ]
    },
    {
      "cell_type": "code",
      "metadata": {
        "id": "isODroNK-ZEi"
      },
      "source": [
        ""
      ],
      "execution_count": null,
      "outputs": []
    }
  ]
}