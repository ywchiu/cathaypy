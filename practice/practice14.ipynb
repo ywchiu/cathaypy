{
  "nbformat": 4,
  "nbformat_minor": 0,
  "metadata": {
    "colab": {
      "name": "practice14.ipynb",
      "provenance": [],
      "collapsed_sections": []
    },
    "kernelspec": {
      "name": "python3",
      "display_name": "Python 3"
    },
    "language_info": {
      "name": "python"
    }
  },
  "cells": [
    {
      "cell_type": "markdown",
      "metadata": {
        "id": "0XSL0lhd-hpK"
      },
      "source": [
        "## Practice 14\n",
        "\n",
        "請使用散佈圖比較預估薪水(EstimatedSalary)與信用分數(CreditScore)的關係?\n"
      ]
    },
    {
      "cell_type": "code",
      "metadata": {
        "id": "lS6BWz0Z-jTB"
      },
      "source": [
        ""
      ],
      "execution_count": null,
      "outputs": []
    }
  ]
}