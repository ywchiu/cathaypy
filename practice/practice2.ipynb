{
  "nbformat": 4,
  "nbformat_minor": 0,
  "metadata": {
    "colab": {
      "name": "practice2.ipynb",
      "provenance": [],
      "collapsed_sections": []
    },
    "kernelspec": {
      "name": "python3",
      "display_name": "Python 3"
    },
    "language_info": {
      "name": "python"
    }
  },
  "cells": [
    {
      "cell_type": "markdown",
      "metadata": {
        "id": "EsgEec8ZYVBv"
      },
      "source": [
        "原本系統上呈現的使用者存戶存款金額為 NTD$ 3,180,000，現在存戶想將所有存款金額以1美元對27.69台幣的匯率將台幣存款轉存成美元存款(以整數表示)，請寫一個程式實現匯率轉換任務\n",
        "\n",
        "\n",
        "\n",
        "\n",
        "\n",
        "\n",
        "\n"
      ]
    },
    {
      "cell_type": "code",
      "metadata": {
        "id": "TOpNAyCrYQl-"
      },
      "source": [
        "deposit = 'NTD$ 3,180,000'\n",
        "\n",
        "answer = "
      ],
      "execution_count": null,
      "outputs": []
    }
  ]
}