{
  "nbformat": 4,
  "nbformat_minor": 0,
  "metadata": {
    "colab": {
      "name": "practice3.ipynb",
      "provenance": [],
      "collapsed_sections": []
    },
    "kernelspec": {
      "name": "python3",
      "display_name": "Python 3"
    },
    "language_info": {
      "name": "python"
    }
  },
  "cells": [
    {
      "cell_type": "markdown",
      "metadata": {
        "id": "nE0_YjF8Yyvd"
      },
      "source": [
        "有一個客戶存款餘額有：300000，現在請你寫一個程式，使用者可以輸入(input)客戶想要提領(withdraw)的金額，輸入完後，螢幕上會秀出以下字串:\n",
        "\n",
        "````\n",
        "您已經提領了 <withdraw> 元整，您的餘額還剩下 <deposit> 元整\n",
        "````\n",
        "\n",
        "\n",
        "\n",
        "\n"
      ]
    },
    {
      "cell_type": "code",
      "metadata": {
        "id": "JqNGTJThY1h2"
      },
      "source": [
        "withdraw = input('提領金額:')\n",
        "deposit = 300000\n",
        "\n",
        "answer = f'您已經提領了 <withdraw> 元整，您的餘額還剩下 <deposit> 元整'\n"
      ],
      "execution_count": null,
      "outputs": []
    }
  ]
}