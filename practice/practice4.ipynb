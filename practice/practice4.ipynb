{
  "nbformat": 4,
  "nbformat_minor": 0,
  "metadata": {
    "colab": {
      "name": "practice4.ipynb",
      "provenance": [],
      "collapsed_sections": []
    },
    "kernelspec": {
      "name": "python3",
      "display_name": "Python 3"
    },
    "language_info": {
      "name": "python"
    }
  },
  "cells": [
    {
      "cell_type": "markdown",
      "metadata": {
        "id": "l23YQFjPVGrE"
      },
      "source": [
        "## Practice 4\n",
        "\n",
        "中位數的定義是，將資料排序後取最中間的值。\n",
        "\n",
        "假設有一家公司，他們的員工年薪(單位：萬元)分別為： [60,90,70,55,120,88,75] \n",
        "\n",
        "請利用Python 的List 找出這家公司員工的薪水中位數為？\n",
        "\n",
        "\n"
      ]
    },
    {
      "cell_type": "code",
      "metadata": {
        "id": "NriWtmctVEwK"
      },
      "source": [
        "salary = [60,90,70,55,120,88,75]"
      ],
      "execution_count": 1,
      "outputs": []
    },
    {
      "cell_type": "code",
      "metadata": {
        "id": "r-G4OqxCVNRP"
      },
      "source": [
        ""
      ],
      "execution_count": null,
      "outputs": []
    }
  ]
}