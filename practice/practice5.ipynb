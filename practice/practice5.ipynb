{
  "nbformat": 4,
  "nbformat_minor": 0,
  "metadata": {
    "colab": {
      "name": "practice5.ipynb",
      "provenance": [],
      "collapsed_sections": []
    },
    "kernelspec": {
      "name": "python3",
      "display_name": "Python 3"
    },
    "language_info": {
      "name": "python"
    }
  },
  "cells": [
    {
      "cell_type": "markdown",
      "metadata": {
        "id": "4V-x4i0thcuV"
      },
      "source": [
        "## Practice 5\n",
        "我們希望建立一個對話機器人, 機器人裡面內建一個資料問答資料庫, 資料庫的問題跟答案如下所示:\n",
        "\n",
        "- 問題:我要保保險 答案: 以下是我們推薦的險總類\n",
        "- 問題:我要貸款     答案: 以下是我們推薦的貸款總類\n",
        "- 問題:我要查餘額  答案: 以下是您的銀行存款餘額\n",
        "\n",
        "希望你能用這個問答資料庫建立成一個Python 字典, 當使用者輸入問題時, 可以根據問答資料庫回答答案, 但是如果問題不在資料庫之中，請答：我現在還不聰明，等我變聰明以後再回答你\n",
        "\n",
        "提示: 要使用 get 的語法\n",
        "\n",
        "\n",
        "\n",
        "\n",
        "\n"
      ]
    },
    {
      "cell_type": "code",
      "metadata": {
        "id": "NLkXWf2khhmT"
      },
      "source": [
        "question = input('請輸入您的問題:')\n",
        "qa = {}\n",
        "answer = qa.get(question)"
      ],
      "execution_count": null,
      "outputs": []
    }
  ]
}