{
  "nbformat": 4,
  "nbformat_minor": 0,
  "metadata": {
    "colab": {
      "name": "practice6.ipynb",
      "provenance": [],
      "collapsed_sections": []
    },
    "kernelspec": {
      "name": "python3",
      "display_name": "Python 3"
    },
    "language_info": {
      "name": "python"
    }
  },
  "cells": [
    {
      "cell_type": "markdown",
      "metadata": {
        "id": "wa-uKZ_fzhcJ"
      },
      "source": [
        "## Practice 6\n",
        "\n",
        "有一個客戶存款餘額有：300000，現在請你寫一個程式，使用者可以輸入(input)客戶想要提領(withdraw)的金額，如果客戶的餘額夠提領，輸入完後，螢幕上會秀出以下字串:\n",
        "\n",
        "您已經提領了 <withdraw> 元整，您的餘額還剩下 <deposit> 元整\n",
        "\n",
        "但如果客戶的餘額不夠提領，輸入完後，螢幕上會秀出以下字串:\n",
        "您的餘額不足\n",
        "\n",
        "\n"
      ]
    },
    {
      "cell_type": "code",
      "metadata": {
        "id": "uUxL4yK3zlWq"
      },
      "source": [
        ""
      ],
      "execution_count": null,
      "outputs": []
    }
  ]
}