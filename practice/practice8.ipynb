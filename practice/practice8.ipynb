{
  "nbformat": 4,
  "nbformat_minor": 0,
  "metadata": {
    "colab": {
      "name": "practice8.ipynb",
      "provenance": [],
      "collapsed_sections": []
    },
    "kernelspec": {
      "name": "python3",
      "display_name": "Python 3"
    },
    "language_info": {
      "name": "python"
    }
  },
  "cells": [
    {
      "cell_type": "markdown",
      "metadata": {
        "id": "ve85VUIhDbMr"
      },
      "source": [
        "## Practice 8\n",
        "請撰寫一個函式，當使用者輸入小寫數字金額至函式時，函式會回傳新台幣大寫字串：\n",
        "\n",
        "**阿拉伯數字對上新台幣大寫符號為：**\n",
        "\n",
        "1:壹, 2:貳, 3:參, 4:肆, 5:伍, 6:陸, 7:柒, 8:捌, 9:玖\n",
        "\n"
      ]
    }
  ]
}