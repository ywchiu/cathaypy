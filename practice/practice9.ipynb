{
  "nbformat": 4,
  "nbformat_minor": 0,
  "metadata": {
    "colab": {
      "name": "Practice9.ipynb",
      "provenance": [],
      "collapsed_sections": []
    },
    "kernelspec": {
      "name": "python3",
      "display_name": "Python 3"
    },
    "language_info": {
      "name": "python"
    }
  },
  "cells": [
    {
      "cell_type": "markdown",
      "metadata": {
        "id": "IH_J8EOLDsQK"
      },
      "source": [
        "## Practice9\n",
        "請撰寫一個函式，當使用者輸入小寫數字金額至函式時，函式會回傳新台幣大寫字串：\n",
        "\n",
        "\n",
        "**阿拉伯數字對上新台幣大寫符號為**\n",
        "\n",
        "\n",
        "1:壹, 2:貳, 3:參, 4:肆, 5:伍, 6:陸, 7:柒, 8:捌, 9:玖\n",
        "\n",
        "但是當使用者輸入的不是數字時，需要印出：請輸入數字\n",
        "\n",
        "\n",
        "\n",
        "\n"
      ]
    },
    {
      "cell_type": "code",
      "metadata": {
        "id": "XfzGdhrdDxuO"
      },
      "source": [
        ""
      ],
      "execution_count": null,
      "outputs": []
    }
  ]
}